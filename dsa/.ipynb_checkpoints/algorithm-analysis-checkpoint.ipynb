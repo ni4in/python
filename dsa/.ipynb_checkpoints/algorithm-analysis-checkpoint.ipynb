{
 "cells": [
  {
   "cell_type": "markdown",
   "metadata": {
    "slideshow": {
     "slide_type": "slide"
    }
   },
   "source": [
    "## Algorithm Analysis"
   ]
  },
  {
   "attachments": {},
   "cell_type": "markdown",
   "metadata": {},
   "source": [
    "\n",
    "### What is algorithm ?\n",
    "\n",
    "* <font color='pink'>Algorithm </font> is a step-by-step instructions for solving a problem.\n",
    "\n",
    "* <font color='pink'>Program </font>: algorithm that has been encoded in a particular programming language\n",
    "\n",
    "### What is Analysis ? \n",
    "\n",
    "* Finding answer to the question ???\n",
    "    *  When two programs solve the same problem, which one is <font color='violet'> better ?  </font>\n",
    "    * <font color='violet'>Better</font> on what parameters ?\n",
    "        * Readability\n",
    "        * Number of lines\n",
    "        * Amount of computing resources\n",
    "\n",
    "\n"
   ]
  },
  {
   "cell_type": "markdown",
   "metadata": {
    "slideshow": {
     "slide_type": "slide"
    }
   },
   "source": [
    "## Asymptotic Analysis\n",
    "* Is used to compare algorithms independently of dataset and programming language"
   ]
  },
  {
   "attachments": {},
   "cell_type": "markdown",
   "metadata": {},
   "source": [
    "## <font color='pink'>Big-O-Notation </font>\n",
    "* <font color='teal'>To quanitfy the number of operations or execution steps </font>there by making execution time independent of prgram or computer \n",
    "* if execution steps = basic computation unit , then <font color='teal'>Total # of execution step = Total computation cost </font>\n",
    "* Decision on the basic computation unit is difficult and depends on algorithm implementation\n",
    "\n",
    "For summation algorithm `sum_of_n()` :\n",
    "\n",
    "  * basic computation unit = assignment statements \n",
    "  * function have <font color=\"red\">1+ n </font> (sum=0 + sum+=i) assignment steps\n",
    "  * Time it takes to solve a problem of size $n$ is \n",
    "  \n",
    "  $$ T(n) = 1+n $$\n",
    "\n",
    "* Exact number of operations is not important rather we can only think of the dominant part of the $T(n)$\n",
    "* <font color='green'>**Big-O**</font> can be defined as the <font color='green'>**Order of Magnitude** </font>function that describes the part of $T(n)$ that increases fastest as $n$ increases , $O(f(n))$ where $f(n)$ describes the dominant part of $T(n)$\n",
    "$$ O(f(n)) \\implies O(n) $$\n",
    "\n",
    "For Example : $T(n) = 5n^{2} + 27n + 1005 $\n",
    "$$ \\implies O(n^{2}) $$  "
   ]
  },
  {
   "cell_type": "code",
   "execution_count": null,
   "metadata": {},
   "outputs": [],
   "source": [
    "import numpy as np \n",
    "import matplotlib.pyplot as plt \n",
    "plt.style.use('dark_background')\n",
    "n = np.linspace(0,10,100)\n",
    "y_log = np.log(1+n)\n",
    "y_lin = 1.5*n\n",
    "y_logLin = n*np.log(1+n)\n",
    "qdr = n**2 \n",
    "cub = 2*n**3\n",
    "exp = 5**n\n",
    "plt.figure(figsize=(10, 10))\n",
    "plt.plot(n,y_log,'red')\n",
    "plt.plot(n,y_lin,'yellow')\n",
    "plt.plot(n,y_logLin,'pink')\n",
    "plt.plot(n,qdr,'blue')\n",
    "plt.plot(n,cub,'green')\n",
    "plt.plot(n,exp,'violet')\n",
    "plt.ylim([0,100])\n",
    "plt.legend(['log','linear','log-linear','quadratic','cubic','exponential'])\n",
    "plt.show()\n",
    "\n"
   ]
  },
  {
   "attachments": {},
   "cell_type": "markdown",
   "metadata": {},
   "source": [
    "Ex1: Find the $T(n)$ and **Big-O** of the code snippet given below \n",
    "    \n",
    "```python\n",
    "    a=5\n",
    "    b=6\n",
    "    c = 10\n",
    "    for i in range(n):\n",
    "        for j in range(n): \n",
    "            x=i*i \n",
    "            y=j*j\n",
    "            z=i*j\n",
    "    for k in range(n): \n",
    "        w = a * k + 45\n",
    "        v=b*b \n",
    "    d = 33\n",
    "```"
   ]
  },
  {
   "attachments": {},
   "cell_type": "markdown",
   "metadata": {},
   "source": [
    "$T(n) = 3+3n^{2}+2n+1 = 4+2n+3n^{2}  \\implies O(n^{2})$"
   ]
  },
  {
   "attachments": {},
   "cell_type": "markdown",
   "metadata": {},
   "source": [
    "**Ex2: Minimum of a List**\n",
    "\n",
    " Write two functions to find the minimum number in a list. The first function should compare each number to every other number on the list $O(n^{2})$. the second function should be linear $O(n)$"
   ]
  },
  {
   "cell_type": "code",
   "execution_count": null,
   "metadata": {},
   "outputs": [],
   "source": [
    "import time \n",
    "import numpy as np\n",
    "# program to find minimum as a O(n^{2})\n",
    "def find_min_1(num_list):\n",
    "    start = time.time()\n",
    "    for i in num_list:\n",
    "        min = i\n",
    "        for j in num_list:\n",
    "            if min > j:\n",
    "                min = j\n",
    "\n",
    "    end = time.time()\n",
    "    return min, end-start\n",
    "\n",
    "#program to find minimum as O(n)\n",
    "def find_min_2(num_list):\n",
    "    start = time.time()\n",
    "    min = num_list[0]\n",
    "    for num in num_list:\n",
    "        if min > num:\n",
    "            min = num\n",
    "    end = time.time()    \n",
    "    return min, end-start\n",
    "\n",
    "x = list(np.random.randint(0,100,(10000))) \n",
    "min_num, exe_time = find_min_1(x)\n",
    "print(f'minimum of list is {min_num} with {exe_time:0.3e}')\n",
    "min_num,exe_time = find_min_2(x)\n",
    "print(f'minimum of list is {min_num} with {exe_time:0.3e}')\n"
   ]
  },
  {
   "attachments": {},
   "cell_type": "markdown",
   "metadata": {},
   "source": [
    "**Ex3: Anagram Detection** \n",
    "\n",
    "One string is an anagram of another if the second is simply a rearrangement of the first.\n",
    "\n",
    "<font color='green'>Solution 1 : Checking Off </font>\n"
   ]
  },
  {
   "cell_type": "code",
   "execution_count": null,
   "metadata": {},
   "outputs": [],
   "source": [
    "def anagram_1(str1,str2):\n",
    "    i = 0\n",
    "    while i < len(str1):\n",
    "        j = 0\n",
    "        while j < len(str2):\n",
    "            if str1[i] == str2[j]:\n",
    "                i = i+1\n",
    "                found = True\n",
    "                break\n",
    "            else:\n",
    "                j = j+1\n",
    "                found = False\n",
    "        if i != len(str1)-1 and not found :\n",
    "            print(i)\n",
    "            return False\n",
    "    return True"
   ]
  },
  {
   "attachments": {},
   "cell_type": "markdown",
   "metadata": {},
   "source": [
    "Each of the <font color='red'> n </font> characters in the string <font color='yellow'>s1</font> will have to match up to <font color='red'> n </font> characters in <font color='yellow'>s2</font>. This results in \n",
    "$$\\sum_{i=1}^{n} i  = \\frac{n(n+1)}{2} = \\frac{1}{2}n^{2} + \\frac{1}{2}n$$ \n",
    "\n",
    "$$\\implies O(n^{2}) $$"
   ]
  },
  {
   "attachments": {},
   "cell_type": "markdown",
   "metadata": {},
   "source": [
    "<font color='green'>Solution 2: Sort and Compare</font> \n",
    "\n",
    "As the anagram are the same string if ordered alphabetically . Using this idea to program "
   ]
  },
  {
   "cell_type": "code",
   "execution_count": null,
   "metadata": {},
   "outputs": [],
   "source": [
    "def check_anagram_two(str1,str2):\n",
    "    str1_list = list(str1)\n",
    "    str2_list = list(str2)\n",
    "    str1_list.sort()\n",
    "    str2_list.sort()\n",
    "    for n in range(len(str1_list)):\n",
    "        if str1_list[n] != str2_list[n]:\n",
    "            return False\n",
    "    return True\n",
    "            "
   ]
  },
  {
   "attachments": {},
   "cell_type": "markdown",
   "metadata": {},
   "source": [
    "In the above solution we have a for loop which contributes to $O(n)$ but the sorting operation is either $O(n \\log n)$ or $O(n^{2})$\n",
    "\n",
    "<font color='green'> Solution 3 : Brute Force </font>\n",
    "\n",
    "Here we will generate all possible strings out of <font color='yellow'>s1</font> and check if <font color='yellow'>s2</font> occurs. This results in \n",
    "$$n! = n(n-1)(n-2) \\dots 1$$ \n",
    "\n",
    "$ n!$ grows faster than $2^{n} $\n",
    "\n",
    "$20! = 2, 432, 902, 008, 176, 640, 000 $\n",
    "\n",
    "<font color='green'>Solution 4: Count and Compare</font>"
   ]
  },
  {
   "cell_type": "code",
   "execution_count": null,
   "metadata": {},
   "outputs": [],
   "source": [
    "def check_anagram_three(str1, str2):\n",
    "    str1_list = [0]*26\n",
    "    str2_list = [0]*26\n",
    "    for letter in str1:\n",
    "        str1_list[ord(letter)-ord('a')]+=1\n",
    "    for letter in str2:\n",
    "        str2_list[ord(letter)-ord('a')]+=1\n",
    "    for index in range(len(str1_list)):\n",
    "        if str1_list[index] != str2_list[index]:\n",
    "            return False\n",
    "    return True\n",
    "\n",
    "check_anagram_three('python','typhon')"
   ]
  },
  {
   "attachments": {},
   "cell_type": "markdown",
   "metadata": {},
   "source": [
    "This results in a <font color='yellow'>Linear Solution</font>:\n",
    "$$T(n)=2n+26 \\implies O(n)$$\n",
    "\n",
    "The need for the counter results in additional memory requirements when compared to other solutions. If strings length is in millions then this is going to be a substantial amount and choice of algorithm speed vs memory requirement is a trade off"
   ]
  },
  {
   "attachments": {},
   "cell_type": "markdown",
   "metadata": {},
   "source": [
    "**Quizz**\n",
    "What is the Big-O runnning time of the following \n",
    "\n",
    "***\n",
    "Problem 1: \n",
    "\n",
    "```python\n",
    "test = 0\n",
    "for i in range(n):\n",
    "    for j in range(n):\n",
    "    test = test + i * j\n",
    "```\n",
    "***\n",
    "Problem 2:\n",
    "\n",
    "```python\n",
    "test = 0\n",
    "for i in range(n):\n",
    "    test = test + 1\n",
    "for j in range(n):\n",
    "    test = test - 1\n",
    "```\n",
    "***\n",
    "Probelm 3:\n",
    "```python\n",
    "i = n\n",
    "while i > 0:\n",
    "    k = 2 + 2\n",
    "    i = i // 2\n",
    "```\n",
    "*** "
   ]
  },
  {
   "attachments": {},
   "cell_type": "markdown",
   "metadata": {},
   "source": [
    "## <font color='pink'>Python Data Structures</font>\n",
    "### <font color='pink'>Lists</font> \n",
    "* Deisgners of python made common operations on python faster and less common slower\n",
    "\n",
    "* Common operations like indexing and assigning a value to index position. Both these take the same amount of time no matter how big the list is. That is $O(1)$\n",
    "\n",
    "* Growing a list : Two ways to create a list \n",
    "  * Append $\\implies O(1)$\n",
    "  * Concatenation $\\implies O(k)$ , where $k$ is the size of list being concatenated\n",
    "  * `pop(0)` $\\implies O(n)$ and `pop()` $\\implies O(1)$. This is because after popping first element the python will do a shift one position to the left/beginning\n",
    "\n",
    "Note: Not to learn but to understand the difference of speed \n",
    "\n",
    "| Operation         | Big-O |\n",
    "------------------- |--------|\n",
    "index x[]          | O(1)  |\n",
    "index assignment  | O(1)  |\n",
    "append  | O(1)  |\n",
    "pop() | O(1)  |\n",
    "pop(i)  | O(n)  |\n",
    "insert(i,item)  | O(n)  |\n",
    "del operator  | O(n)  |\n",
    "iteration | O(n)  |\n",
    "contains (in) | O(n) |\n",
    "get slice [x:y] | O(k) |\n",
    "del slice | O(n) |\n",
    "set slice | O(n+k)  |\n",
    "reverse | O(n)  |\n",
    "concatenate | O(k) |\n",
    "sort  | O(n log n)  |\n",
    "multiply  | O(nk) |\n",
    "\n",
    "\n"
   ]
  },
  {
   "cell_type": "code",
   "execution_count": 10,
   "metadata": {},
   "outputs": [],
   "source": [
    "def test1():\n",
    "    l = []\n",
    "    for i in range(1000):\n",
    "        l+=[i]\n",
    "def test2():\n",
    "    l = []\n",
    "    for i in range(1000):\n",
    "        l.append(i)\n",
    "def test3():\n",
    "    l = [i for i in range(1000)]\n",
    "def test4():\n",
    "    l = list(range(1000))\n"
   ]
  },
  {
   "cell_type": "code",
   "execution_count": 9,
   "metadata": {},
   "outputs": [
    {
     "name": "stdout",
     "output_type": "stream",
     "text": [
      "concat 0.032160263000150735 milliseconds\n",
      "append 0.014105648999930054 milliseconds\n",
      "comprehension 0.011132964000125867 milliseconds\n",
      "list range 0.005252663999954166 milliseconds\n"
     ]
    }
   ],
   "source": [
    "import timeit\n",
    "from timeit import Timer\n",
    "\n",
    "t1 = Timer(\"test1()\", \"from __main__ import test1\")\n",
    "print(\"concat\",t1.timeit(number=1000),\"milliseconds\")\n",
    "t2 = Timer(\"test2()\", \"from __main__ import test2\")\n",
    "print(\"append\",t2.timeit(number=1000),\"milliseconds\")\n",
    "t3 = Timer(\"test3()\", \"from __main__ import test3\")\n",
    "print(\"comprehension\",t3.timeit(number=1000),\"milliseconds\")\n",
    "t4 = Timer(\"test4()\", \"from __main__ import test4\")\n",
    "print(\"list range\",t4.timeit(number=1000),\"milliseconds\")"
   ]
  },
  {
   "cell_type": "code",
   "execution_count": 6,
   "metadata": {},
   "outputs": [],
   "source": [
    "import timeit\n",
    "from timeit import Timer\n",
    "pop_zero = Timer(\"x.pop(0)\",\"from __main__ import x\")\n",
    "\n",
    "pop_end = Timer(\"x.pop()\",\"from __main__ import x\")\n",
    "\n",
    "\n",
    "for i in range(1000000,100000001,1000000):\n",
    "    x = list(range(i))\n",
    "    pt =pop_end.timeit(10)\n",
    "\n",
    "    x = list(range(i))\n",
    "    pz = pop_zero.timeit(number=10)\n",
    "\n",
    "    print(f\"{pz:0.5f},{pt:0.5f}\")\n",
    "    "
   ]
  }
 ],
 "metadata": {
  "kernelspec": {
   "display_name": "venv",
   "language": "python",
   "name": "python3"
  },
  "language_info": {
   "codemirror_mode": {
    "name": "ipython",
    "version": 3
   },
   "file_extension": ".py",
   "mimetype": "text/x-python",
   "name": "python",
   "nbconvert_exporter": "python",
   "pygments_lexer": "ipython3",
   "version": "3.11.2"
  },
  "orig_nbformat": 4
 },
 "nbformat": 4,
 "nbformat_minor": 2
}
