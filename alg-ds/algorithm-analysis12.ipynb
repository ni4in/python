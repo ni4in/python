{
 "cells": [
  {
   "attachments": {},
   "cell_type": "markdown",
   "metadata": {},
   "source": [
    "## What is algorithm Analysis?\n",
    "\n",
    "Tyring to answer the question : <font color='yellow'>When two programs solve the same problem, which one is better ?  </font> \n",
    "\n",
    "<font color='violet'>Better on what parameters ? </font> \n",
    "\n",
    "1. Readability\n",
    "2. number of lines\n",
    "3. amount of computing resources\n",
    "\n",
    "What is the difference between a program and algorithm ?\n",
    "\n",
    "<font color='pink'>Algorithm </font>: step-by-step instructions for solving a problem. \n",
    "\n",
    "<font color='pink'>Program </font>: algorithm that has been encoded in a particular programming language\n",
    "\n"
   ]
  },
  {
   "attachments": {},
   "cell_type": "markdown",
   "metadata": {},
   "source": [
    "## Big-O-Notation \n",
    "\n",
    "* <font color='teal'>To quanitfy the number of operations or execution steps </font>there by making execution time independent of prgram or computer \n",
    "* if execution steps = basic computation unit , then <font color='teal'>Total # of execution step = Total computation cost </font>\n",
    "* Decision on the basic computation unit is difficult and depends on algorithm implementation\n",
    "\n",
    "For summation algorithm `sum_of_n()` :\n",
    "\n",
    "  * basic computation unit = assignment statements \n",
    "  * function have <font color=\"red\">1+ n </font> (sum=0 + sum+=i) assignment steps\n",
    "  * Time it takes to solve a problem of size $n$ is \n",
    "  \n",
    "  $$ T(n) = 1+n $$\n",
    "\n",
    "* Exact number of operations is not important rather we can only think of the dominant part of the $T(n)$\n",
    "* <font color='green'>**Big-O**</font> can be defined as the <font color='green'>**Order of Magnitude** </font>function that describes the part of $T(n)$ that increases fastest as $n$ increases , $O(f(n))$ where $f(n)$ describes the dominant part of $T(n)$\n",
    "$$ O(f(n)) \\implies O(n) $$\n",
    "\n",
    "For Example : $T(n) = 5n^{2} + 27n + 1005 $\n",
    "$$ \\implies O(n^{2}) $$  "
   ]
  },
  {
   "attachments": {},
   "cell_type": "markdown",
   "metadata": {},
   "source": [
    "Exercise 1 : Write two functions to find the minimum number in a list. The first function should compare each number to every other number on the list $O(n^{2})$. the second function should be linear $O(n)$"
   ]
  },
  {
   "cell_type": "code",
   "execution_count": 39,
   "metadata": {},
   "outputs": [
    {
     "name": "stdout",
     "output_type": "stream",
     "text": [
      "minimum of list is 0 with 1.814e+00\n",
      "minimum of list is 0 with 1.867e-04\n"
     ]
    }
   ],
   "source": [
    "import time \n",
    "import numpy as np\n",
    "# program to find minimum as a O(n^{2})\n",
    "def find_min_1(num_list):\n",
    "    start = time.time()\n",
    "    for i in num_list:\n",
    "        min = i\n",
    "        for j in num_list:\n",
    "            if min > j:\n",
    "                min = j\n",
    "\n",
    "    end = time.time()\n",
    "    return min, end-start\n",
    "\n",
    "#program to find minimum as O(n)\n",
    "def find_min_2(num_list):\n",
    "    start = time.time()\n",
    "    min = num_list[0]\n",
    "    for num in num_list:\n",
    "        if min > num:\n",
    "            min = num\n",
    "    end = time.time()    \n",
    "    return min, end-start\n",
    "\n",
    "x = list(np.random.randint(0,100,(10000))) \n",
    "min_num, exe_time = find_min_1(x)\n",
    "print(f'minimum of list is {min_num} with {exe_time:0.3e}')\n",
    "min_num,exe_time = find_min_2(x)\n",
    "print(f'minimum of list is {min_num} with {exe_time:0.3e}')\n"
   ]
  },
  {
   "cell_type": "code",
   "execution_count": null,
   "metadata": {},
   "outputs": [],
   "source": []
  }
 ],
 "metadata": {
  "kernelspec": {
   "display_name": "venv",
   "language": "python",
   "name": "python3"
  },
  "language_info": {
   "codemirror_mode": {
    "name": "ipython",
    "version": 3
   },
   "file_extension": ".py",
   "mimetype": "text/x-python",
   "name": "python",
   "nbconvert_exporter": "python",
   "pygments_lexer": "ipython3",
   "version": "3.11.2"
  },
  "orig_nbformat": 4
 },
 "nbformat": 4,
 "nbformat_minor": 2
}
