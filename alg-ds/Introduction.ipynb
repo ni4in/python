{
 "cells": [
  {
   "attachments": {},
   "cell_type": "markdown",
   "metadata": {},
   "source": [
    "## Object Oriented Programming\n",
    "\n",
    "Here we are trying to create an abstract data type : `Fraction Class` \n",
    "\n",
    "`__init__` method is called constructor\n",
    "\n",
    "`__str__` method is to conver object to string\n",
    "\n",
    "`__add__` method to override the addition `+`\n",
    "\n",
    "<center><img src=\"images/2.png\" width=60% height=auto></center>"
   ]
  },
  {
   "cell_type": "code",
   "execution_count": 7,
   "metadata": {},
   "outputs": [],
   "source": [
    "class Fraction():\n",
    "    def __init__(self, num, den):\n",
    "        self.num = num\n",
    "        self.den = den \n",
    "    def __str__(self):\n",
    "        return f'{self.num}/{self.den}'\n",
    "    def __add__(self,fraction):\n",
    "        ans_num = self.num*fraction.den + fraction.num*self.den\n",
    "        ans_den = self.den*fraction.den \n",
    "        common = gcd(ans_num, ans_den)\n",
    "        return Fraction(ans_num//common, ans_den//common )\n",
    "\n",
    "\n",
    "\n",
    "\n",
    "def gcd(m,n):\n",
    "    \"\"\"Euclid's algorithm for finding greatest common divisor: \n",
    "    if n divides m evenly then n is the gcd.\n",
    "    if n divides m not evenly then gcd = gcd(n, remainder of m/n)\n",
    "\n",
    "    Args:\n",
    "        m (int): first number\n",
    "        n (int): second number\n",
    "    \"\"\"\n",
    "    if m%n==0:\n",
    "        return n\n",
    "    elif m%n != 0:\n",
    "        return gcd(n, m%n) \n",
    "\n"
   ]
  },
  {
   "cell_type": "code",
   "execution_count": 12,
   "metadata": {},
   "outputs": [
    {
     "name": "stdout",
     "output_type": "stream",
     "text": [
      "13/14\n",
      "numerator is 13 and denominator is 14\n"
     ]
    }
   ],
   "source": [
    "x = Fraction(3,7)\n",
    "y = Fraction(2,4)\n",
    "z = x+y\n",
    "print(z)\n",
    "print(f'numerator is {z.num} and denominator is {z.den}')"
   ]
  }
 ],
 "metadata": {
  "kernelspec": {
   "display_name": "venv",
   "language": "python",
   "name": "python3"
  },
  "language_info": {
   "codemirror_mode": {
    "name": "ipython",
    "version": 3
   },
   "file_extension": ".py",
   "mimetype": "text/x-python",
   "name": "python",
   "nbconvert_exporter": "python",
   "pygments_lexer": "ipython3",
   "version": "3.11.2"
  },
  "orig_nbformat": 4
 },
 "nbformat": 4,
 "nbformat_minor": 2
}
